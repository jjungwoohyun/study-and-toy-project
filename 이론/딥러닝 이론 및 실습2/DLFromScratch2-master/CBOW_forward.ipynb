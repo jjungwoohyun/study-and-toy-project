{
 "cells": [
  {
   "cell_type": "code",
   "execution_count": 1,
   "metadata": {},
   "outputs": [],
   "source": [
    "import sys\n",
    "sys.path.append('..')\n",
    "import numpy as np\n",
    "from common.layers import MatMul"
   ]
  },
  {
   "cell_type": "code",
   "execution_count": 6,
   "metadata": {},
   "outputs": [],
   "source": [
    "#Sample data\n",
    "C0 = np.array([[1,0,0,0,0,0,0]]) #\"you\"\n",
    "C1 = np.array([[0,1,0,0,0,0,0]]) # goodbye\n",
    "\n",
    "# Initialize weights\n",
    "W_in = np.random.randn(7,3)\n",
    "W_out = np.random.randn(3,7)\n",
    "\n",
    "#Layres\n",
    "in_layers0 = MatMul(W_in)\n",
    "in_layers1 = MatMul(W_in)\n",
    "out_layer = MatMul(W_out)\n",
    "\n",
    "#Forward pass\n",
    "h0 = in_layers0.forward(C0)\n",
    "h1 = in_layers1.forward(C1)\n",
    "h = 0.5*(h0+h1)\n",
    "\n",
    "s = out_layer.forward(h)\n"
   ]
  },
  {
   "cell_type": "code",
   "execution_count": 7,
   "metadata": {},
   "outputs": [
    {
     "name": "stdout",
     "output_type": "stream",
     "text": [
      "[[ 1.44044768 -1.68401787  0.303219    0.61559967  1.23825234 -2.58366525\n",
      "   0.05661864]]\n"
     ]
    }
   ],
   "source": [
    "print(s)"
   ]
  },
  {
   "cell_type": "code",
   "execution_count": null,
   "metadata": {},
   "outputs": [],
   "source": []
  }
 ],
 "metadata": {
  "kernelspec": {
   "display_name": "Python 3",
   "language": "python",
   "name": "python3"
  },
  "language_info": {
   "codemirror_mode": {
    "name": "ipython",
    "version": 3
   },
   "file_extension": ".py",
   "mimetype": "text/x-python",
   "name": "python",
   "nbconvert_exporter": "python",
   "pygments_lexer": "ipython3",
   "version": "3.7.3"
  }
 },
 "nbformat": 4,
 "nbformat_minor": 2
}
